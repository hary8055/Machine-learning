{
 "cells": [
  {
   "cell_type": "code",
   "execution_count": null,
   "id": "e66eca23-f90a-46a2-84ed-5cf13c461bba",
   "metadata": {},
   "outputs": [],
   "source": [
    "#libraries\n",
    "import pandas as pd\n",
    "import numpy as np\n",
    "import matplotlib.pyplot as plt\n",
    "import seaborn as sns\n",
    "from sklearn.preprocessing import StandardScaler\n",
    "from scipy.stats import zscore\n",
    "from sklearn.ensemble import IsolationForest\n",
    "from sklearn.metrics import classification_report, confusion_matrix, ConfusionMatrixDisplay\n",
    "from sklearn.model_selection import train_test_split\n",
    "from sklearn.linear_model import LogisticRegression"
   ]
  },
  {
   "cell_type": "code",
   "execution_count": null,
   "id": "04dad579-5595-4b56-b1c1-2a579eaca200",
   "metadata": {},
   "outputs": [],
   "source": [
    "df = pd.read_csv('"
   ]
  },
  {
   "cell_type": "code",
   "execution_count": null,
   "id": "dadd57ab-997c-4103-85fc-f3b59c90a5b0",
   "metadata": {},
   "outputs": [],
   "source": [
    "df.head()"
   ]
  },
  {
   "cell_type": "code",
   "execution_count": null,
   "id": "ae2c2972-148a-4878-a047-ce156e596904",
   "metadata": {},
   "outputs": [],
   "source": [
    "df.isnull().sum()"
   ]
  },
  {
   "cell_type": "code",
   "execution_count": null,
   "id": "016c79ca-6edf-48dd-8765-9a4d1fdc70cd",
   "metadata": {},
   "outputs": [],
   "source": [
    "df['Date'] = pd.to_datetime(df['Date'])\n",
    "df['Time'] = pd.to_datetime(df['Time'], errors='coerce').dt.time\n",
    "df['Amount'].fillna(df['Amount'].mean(), inplace=True)"
   ]
  },
  {
   "cell_type": "code",
   "execution_count": null,
   "id": "4aa5c953-e74b-411b-b771-9d4dbb0371a1",
   "metadata": {},
   "outputs": [],
   "source": [
    "# Summary statistics\n",
    "print(df.describe())"
   ]
  },
  {
   "cell_type": "code",
   "execution_count": null,
   "id": "2a37f804-901a-4eea-8e1a-97015675023e",
   "metadata": {},
   "outputs": [],
   "source": [
    "# Plotting of transacttion amount\n",
    "plt.figure(figsize=(10, 6))\n",
    "sns.histplot(df['Amount'], bins=50, kde=True)\n",
    "plt.title('Transaction Amount Distribution')\n",
    "plt.xlabel('Amount')\n",
    "plt.ylabel('Frequency')\n",
    "plt.show()"
   ]
  },
  {
   "cell_type": "code",
   "execution_count": null,
   "id": "f2f093d9-067e-40a1-881b-8a55228bc278",
   "metadata": {},
   "outputs": [],
   "source": [
    "corr_matrix = df.corr(numeric_only=True)\n",
    "sns.heatmap(corr_matrix, annot=True, cmap='coolwarm')\n",
    "plt.show()"
   ]
  },
  {
   "cell_type": "code",
   "execution_count": null,
   "id": "35d459d4-645b-4a1b-a84e-80eb4b9b6134",
   "metadata": {},
   "outputs": [],
   "source": [
    "# Encode categorical variables\n",
    "df_encoded = pd.get_dummies(df, columns=['Merchant', 'Transaction Type'])"
   ]
  },
  {
   "cell_type": "code",
   "execution_count": null,
   "id": "1423357d-906d-42a0-8e22-378806a96bdb",
   "metadata": {},
   "outputs": [],
   "source": [
    "# Normalizing\n",
    "scaler = StandardScaler()\n",
    "df_encoded['Amount'] = scaler.fit_transform(df_encoded[['Amount']])"
   ]
  },
  {
   "cell_type": "code",
   "execution_count": null,
   "id": "c6fac047-89b0-4e2c-8e6e-876e6b527c19",
   "metadata": {},
   "outputs": [],
   "source": [
    "# Convert DataFrame to matrix\n",
    "transaction_matrix = df_encoded.to_numpy()"
   ]
  },
  {
   "cell_type": "code",
   "execution_count": null,
   "id": "8ee75317-75cc-4964-89a6-3960ffbc3312",
   "metadata": {},
   "outputs": [],
   "source": [
    "# Z-score method\n",
    "df_encoded['Z-Score'] = zscore(df_encoded['Amount'])\n",
    "threshold = 3\n",
    "df_encoded['Is Anomaly (Z-Score)'] = (np.abs(df_encoded['Z-Score']) > threshold).astype(int)"
   ]
  },
  {
   "cell_type": "code",
   "execution_count": null,
   "id": "383b2f14-6f85-485b-a672-bef1e6458206",
   "metadata": {},
   "outputs": [],
   "source": [
    "# Isolation Forest\n",
    "iso_forest = IsolationForest(contamination=0.02)\n",
    "df_encoded['Is Anomaly (Isolation Forest)'] = iso_forest.fit_predict(df_encoded.drop(columns=['Transaction ID', 'Date', 'Time', 'Z-Score']))\n",
    "df_encoded['Is Anomaly (Isolation Forest)'] = df_encoded['Is Anomaly (Isolation Forest)'].apply(lambda x: 1 if x == -1 else 0)"
   ]
  },
  {
   "cell_type": "code",
   "execution_count": null,
   "id": "1c10f5e4-e5cc-4eb8-b7d5-eb4b56a7b82c",
   "metadata": {},
   "outputs": [],
   "source": [
    "df['Is Anomaly'] = df_encoded[['Is Anomaly (Z-Score)', 'Is Anomaly (Isolation Forest)']].max(axis=1)\n"
   ]
  },
  {
   "cell_type": "code",
   "execution_count": null,
   "id": "e11b91a2-47e2-4c43-b230-c3519f7ab11c",
   "metadata": {},
   "outputs": [],
   "source": [
    "# Generate Classification Report\n",
    "report = classification_report(df['Is_Fraud'], df['Is Anomaly'], target_names=['Non-Fraud', 'Fraud'])\n",
    "print(report)"
   ]
  },
  {
   "cell_type": "code",
   "execution_count": null,
   "id": "fe00f9b4-cfb7-4938-9c8a-f7d101a09e97",
   "metadata": {},
   "outputs": [],
   "source": [
    "# Calculate Confusion Matrix\n",
    "cm = confusion_matrix(df['Is_Fraud'], df['Is Anomaly'])\n",
    "disp = ConfusionMatrixDisplay(confusion_matrix=cm, display_labels=['Non-Fraud', 'Fraud'])\n",
    "disp.plot(cmap='Blues')\n",
    "plt.title('Confusion Matrix')\n",
    "plt.show()"
   ]
  }
 ],
 "metadata": {
  "kernelspec": {
   "display_name": "Python 3 (ipykernel)",
   "language": "python",
   "name": "python3"
  },
  "language_info": {
   "codemirror_mode": {
    "name": "ipython",
    "version": 3
   },
   "file_extension": ".py",
   "mimetype": "text/x-python",
   "name": "python",
   "nbconvert_exporter": "python",
   "pygments_lexer": "ipython3",
   "version": "3.12.2"
  }
 },
 "nbformat": 4,
 "nbformat_minor": 5
}

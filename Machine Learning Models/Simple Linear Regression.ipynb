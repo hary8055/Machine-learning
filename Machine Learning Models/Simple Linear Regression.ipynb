{
 "cells": [
  {
   "cell_type": "code",
   "execution_count": 1,
   "id": "4e02c60d-33b4-4628-b28a-14f4d1d6c517",
   "metadata": {},
   "outputs": [],
   "source": [
    "#Libraries\n",
    "import pandas as pd\n",
    "from sklearn.model_selection import train_test_split\n",
    "from sklearn.linear_model import LinearRegression\n",
    "from sklearn.metrics import mean_squared_error\n"
   ]
  },
  {
   "cell_type": "code",
   "execution_count": 2,
   "id": "f1cdfd11-d62d-4d5a-aefd-ebb81f113a17",
   "metadata": {},
   "outputs": [],
   "source": [
    "df = pd.read_csv('/Users/harikrishnans/Downloads/test.csv')"
   ]
  },
  {
   "cell_type": "code",
   "execution_count": 3,
   "id": "d442d987-eb03-4a54-8e41-ec8faa8e71ac",
   "metadata": {},
   "outputs": [
    {
     "data": {
      "text/plain": [
       "x    0\n",
       "y    0\n",
       "dtype: int64"
      ]
     },
     "execution_count": 3,
     "metadata": {},
     "output_type": "execute_result"
    }
   ],
   "source": [
    "# check for null value\n",
    "df.isnull().sum()"
   ]
  },
  {
   "cell_type": "code",
   "execution_count": 4,
   "id": "5c62cf05-4f39-4e53-a9ca-3734051fc6b0",
   "metadata": {},
   "outputs": [
    {
     "data": {
      "text/plain": [
       "0"
      ]
     },
     "execution_count": 4,
     "metadata": {},
     "output_type": "execute_result"
    }
   ],
   "source": [
    "# check for dupplicates\n",
    "df.duplicated().sum()"
   ]
  },
  {
   "cell_type": "code",
   "execution_count": 5,
   "id": "1dbdb883-36b5-445b-af98-f379fed368c9",
   "metadata": {},
   "outputs": [
    {
     "data": {
      "text/html": [
       "<div>\n",
       "<style scoped>\n",
       "    .dataframe tbody tr th:only-of-type {\n",
       "        vertical-align: middle;\n",
       "    }\n",
       "\n",
       "    .dataframe tbody tr th {\n",
       "        vertical-align: top;\n",
       "    }\n",
       "\n",
       "    .dataframe thead th {\n",
       "        text-align: right;\n",
       "    }\n",
       "</style>\n",
       "<table border=\"1\" class=\"dataframe\">\n",
       "  <thead>\n",
       "    <tr style=\"text-align: right;\">\n",
       "      <th></th>\n",
       "      <th>x</th>\n",
       "      <th>y</th>\n",
       "    </tr>\n",
       "  </thead>\n",
       "  <tbody>\n",
       "    <tr>\n",
       "      <th>x</th>\n",
       "      <td>1.000000</td>\n",
       "      <td>0.994545</td>\n",
       "    </tr>\n",
       "    <tr>\n",
       "      <th>y</th>\n",
       "      <td>0.994545</td>\n",
       "      <td>1.000000</td>\n",
       "    </tr>\n",
       "  </tbody>\n",
       "</table>\n",
       "</div>"
      ],
      "text/plain": [
       "          x         y\n",
       "x  1.000000  0.994545\n",
       "y  0.994545  1.000000"
      ]
     },
     "execution_count": 5,
     "metadata": {},
     "output_type": "execute_result"
    }
   ],
   "source": [
    "df.corr()"
   ]
  },
  {
   "cell_type": "code",
   "execution_count": 6,
   "id": "0b7ab6c0-9373-4ba3-9752-71f4cd1f179c",
   "metadata": {},
   "outputs": [
    {
     "data": {
      "text/plain": [
       "array([[76.46957317],\n",
       "       [66.33169796],\n",
       "       [92.69017349],\n",
       "       [45.04216003],\n",
       "       [55.18003524],\n",
       "       [82.55229829],\n",
       "       [74.44199813],\n",
       "       [77.48336069],\n",
       "       [24.76640963],\n",
       "       [76.46957317],\n",
       "       [47.06973507],\n",
       "       [62.27654788],\n",
       "       [52.13867268],\n",
       "       [46.05594755],\n",
       "       [81.53851077],\n",
       "       [61.26276036],\n",
       "       [21.72504707],\n",
       "       [50.11109764],\n",
       "       [ 4.49065922],\n",
       "       [91.67638597],\n",
       "       [20.71125955],\n",
       "       [39.97322243],\n",
       "       [40.98700995],\n",
       "       [11.58717186],\n",
       "       [31.86292227],\n",
       "       [20.71125955],\n",
       "       [46.05594755],\n",
       "       [47.06973507],\n",
       "       [39.97322243],\n",
       "       [69.37306052],\n",
       "       [89.64881093],\n",
       "       [40.98700995],\n",
       "       [ 0.43550914],\n",
       "       [91.67638597],\n",
       "       [65.31791044],\n",
       "       [25.78019715],\n",
       "       [36.93185987],\n",
       "       [51.12488516],\n",
       "       [68.359273  ],\n",
       "       [39.97322243],\n",
       "       [19.69747202],\n",
       "       [18.6836845 ],\n",
       "       [ 3.4768717 ],\n",
       "       [20.71125955],\n",
       "       [90.66259845],\n",
       "       [13.6147469 ],\n",
       "       [90.66259845],\n",
       "       [65.31791044],\n",
       "       [70.38684804],\n",
       "       [58.2213978 ],\n",
       "       [79.51093573],\n",
       "       [56.19382276],\n",
       "       [38.95943491],\n",
       "       [76.46957317],\n",
       "       [12.60095938],\n",
       "       [46.05594755],\n",
       "       [82.55229829],\n",
       "       [58.2213978 ],\n",
       "       [54.16624772],\n",
       "       [27.80777219]])"
      ]
     },
     "execution_count": 6,
     "metadata": {},
     "output_type": "execute_result"
    }
   ],
   "source": [
    "# splitting to train and test\n",
    "x=df[['x']]\n",
    "y=df[['y']]\n",
    "xtrain,xtest,ytrain,ytest=train_test_split(x,y,test_size=0.2)\n",
    "\n",
    "# model building\n",
    "slr=LinearRegression()\n",
    "slr.fit(xtrain,ytrain)\n",
    "predlr=slr.predict(xtest)\n",
    "predlr"
   ]
  },
  {
   "cell_type": "code",
   "execution_count": 7,
   "id": "9ef39ad3-d626-4fca-855b-90842bd015bf",
   "metadata": {},
   "outputs": [
    {
     "name": "stdout",
     "output_type": "stream",
     "text": [
      "9.080468784261035\n"
     ]
    }
   ],
   "source": [
    "# printing mean squared error\n",
    "print(mean_squared_error(predlr,ytest))"
   ]
  },
  {
   "cell_type": "code",
   "execution_count": 8,
   "id": "18a9bdad-95c9-440a-87a9-46c2d88d8550",
   "metadata": {},
   "outputs": [
    {
     "data": {
      "image/png": "[encoded data removed]",
      "text/plain": [
       "<Figure size 640x480 with 1 Axes>"
      ]
     },
     "metadata": {},
     "output_type": "display_data"
    }
   ],
   "source": [
    "# ploting graph\n",
    "import matplotlib.pyplot as plt\n",
    "plt.scatter(x=df['x'],y=df['y'])\n",
    "plt.title('LinearRegression')\n",
    "plt.grid()\n",
    "plt.show()"
   ]
  },
  {
   "cell_type": "code",
   "execution_count": null,
   "id": "b734a084-fea4-4aa4-8379-9a07a3ac237e",
   "metadata": {},
   "outputs": [],
   "source": []
  }
 ],
 "metadata": {
  "kernelspec": {
   "display_name": "Python 3 (ipykernel)",
   "language": "python",
   "name": "python3"
  },
  "language_info": {
   "codemirror_mode": {
    "name": "ipython",
    "version": 3
   },
   "file_extension": ".py",
   "mimetype": "text/x-python",
   "name": "python",
   "nbconvert_exporter": "python",
   "pygments_lexer": "ipython3",
   "version": "3.12.2"
  }
 },
 "nbformat": 4,
 "nbformat_minor": 5
}

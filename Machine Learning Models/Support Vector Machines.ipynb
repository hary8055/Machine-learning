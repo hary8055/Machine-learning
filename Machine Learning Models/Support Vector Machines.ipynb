{
 "cells": [
  {
   "cell_type": "code",
   "execution_count": 1,
   "id": "83ead859-37f9-4d5b-ac41-082b3a4ceb18",
   "metadata": {},
   "outputs": [],
   "source": [
    "#Libraries\n",
    "import pandas as pd\n",
    "import numpy as np\n",
    "from sklearn.model_selection import train_test_split\n",
    "from sklearn.svm import SVC"
   ]
  },
  {
   "cell_type": "code",
   "execution_count": 2,
   "id": "2d8fbf64-cd75-4c72-b655-895619b593e3",
   "metadata": {},
   "outputs": [],
   "source": [
    "df = pd.read_csv('/Users/harikrishnans/Downloads/Fish.csv')"
   ]
  },
  {
   "cell_type": "code",
   "execution_count": 3,
   "id": "4f8a6383-f3cf-4954-88b0-7c354b806bcd",
   "metadata": {},
   "outputs": [
    {
     "data": {
      "text/plain": [
       "Species    0\n",
       "Weight     0\n",
       "Length1    0\n",
       "Length2    0\n",
       "Length3    0\n",
       "Height     0\n",
       "Width      0\n",
       "dtype: int64"
      ]
     },
     "execution_count": 3,
     "metadata": {},
     "output_type": "execute_result"
    }
   ],
   "source": [
    "# check for null value\n",
    "df.isnull().sum()"
   ]
  },
  {
   "cell_type": "code",
   "execution_count": 4,
   "id": "3f84c44a-ada8-4bcb-babe-012fed746279",
   "metadata": {},
   "outputs": [
    {
     "data": {
      "text/plain": [
       "0"
      ]
     },
     "execution_count": 4,
     "metadata": {},
     "output_type": "execute_result"
    }
   ],
   "source": [
    "# check for dupplicates\n",
    "df.duplicated().sum()"
   ]
  },
  {
   "cell_type": "code",
   "execution_count": 5,
   "id": "6d194e95-db3f-4359-9b45-aa8e702306f3",
   "metadata": {},
   "outputs": [],
   "source": [
    "# splitting to train and test\n",
    "train,test=train_test_split(df,test_size=0.1)\n"
   ]
  },
  {
   "cell_type": "code",
   "execution_count": 6,
   "id": "66e86080-543f-4ffe-8bfd-d9ff308711e0",
   "metadata": {},
   "outputs": [
    {
     "data": {
      "text/plain": [
       "0.875"
      ]
     },
     "execution_count": 6,
     "metadata": {},
     "output_type": "execute_result"
    }
   ],
   "source": [
    "trainx=train.iloc[:,1:]\n",
    "trainy=train.iloc[:,0]\n",
    "testx=test.iloc[:,1:]\n",
    "testy=test.iloc[:,0]\n",
    "\n",
    "# model building\n",
    "# linear\n",
    "model_linear=SVC(kernel='linear')\n",
    "predlinear=model_linear.fit(trainx,trainy).predict(testx)\n",
    "acc=np.mean(predlinear==testy)\n",
    "acc"
   ]
  },
  {
   "cell_type": "code",
   "execution_count": 7,
   "id": "57df9c46-4f7f-4f40-b1ae-94522b2c6d0e",
   "metadata": {},
   "outputs": [
    {
     "data": {
      "text/plain": [
       "0.25"
      ]
     },
     "execution_count": 7,
     "metadata": {},
     "output_type": "execute_result"
    }
   ],
   "source": [
    "# ploynomial\n",
    "model_poly=SVC(kernel='poly')\n",
    "predpoly=model_poly.fit(trainx,trainy).predict(testx)\n",
    "acc1=np.mean(predpoly==testy)\n",
    "acc1"
   ]
  },
  {
   "cell_type": "code",
   "execution_count": 8,
   "id": "a3e6fbc3-3c27-4f63-8611-6edbba350c24",
   "metadata": {},
   "outputs": [
    {
     "data": {
      "text/plain": [
       "0.5625"
      ]
     },
     "execution_count": 8,
     "metadata": {},
     "output_type": "execute_result"
    }
   ],
   "source": [
    "# gaussian-radian basis fn\n",
    "model_rbf=SVC(kernel='rbf')\n",
    "predrbf=model_rbf.fit(trainx,trainy).predict(testx)\n",
    "acc2=np.mean(predrbf==testy)\n",
    "acc2"
   ]
  },
  {
   "cell_type": "code",
   "execution_count": 9,
   "id": "eb0eb1fe-c20e-44e7-9afe-bb788283615a",
   "metadata": {},
   "outputs": [
    {
     "data": {
      "text/plain": [
       "0.5"
      ]
     },
     "execution_count": 9,
     "metadata": {},
     "output_type": "execute_result"
    }
   ],
   "source": [
    "# sigmoid\n",
    "model_sigmoid=SVC(kernel='sigmoid')\n",
    "predsig=model_sigmoid.fit(trainx,trainy).predict(testx)\n",
    "acc3=np.mean(predsig==testy)\n",
    "acc3"
   ]
  },
  {
   "cell_type": "code",
   "execution_count": null,
   "id": "9822af3f-3a5a-43e6-bfa0-2312c1359d7d",
   "metadata": {},
   "outputs": [],
   "source": []
  }
 ],
 "metadata": {
  "kernelspec": {
   "display_name": "Python 3 (ipykernel)",
   "language": "python",
   "name": "python3"
  },
  "language_info": {
   "codemirror_mode": {
    "name": "ipython",
    "version": 3
   },
   "file_extension": ".py",
   "mimetype": "text/x-python",
   "name": "python",
   "nbconvert_exporter": "python",
   "pygments_lexer": "ipython3",
   "version": "3.12.2"
  }
 },
 "nbformat": 4,
 "nbformat_minor": 5
}
